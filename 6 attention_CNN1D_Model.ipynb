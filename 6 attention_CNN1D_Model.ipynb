{
 "cells": [
  {
   "cell_type": "markdown",
   "metadata": {
    "id": "YvnphKMPSAeJ"
   },
   "source": [
    "## Importing necessary libraries"
   ]
  },
  {
   "cell_type": "code",
   "execution_count": 1,
   "metadata": {
    "executionInfo": {
     "elapsed": 4268,
     "status": "ok",
     "timestamp": 1618925016686,
     "user": {
      "displayName": "Mridul Agrawal",
      "photoUrl": "https://lh3.googleusercontent.com/a-/AOh14GjLla3WulY1gWW8ujHJjynhCoMSlJj-OuNdjSiaZA=s64",
      "userId": "02424902299468638594"
     },
     "user_tz": -330
    },
    "id": "3ZQI5PePSAef"
   },
   "outputs": [],
   "source": [
    "import pandas as pd\n",
    "import tensorflow as tf\n",
    "from tensorflow.keras.layers import Embedding, LSTM, Dense,RNN,Flatten,Conv1D\n",
    "from tensorflow.keras.models import Model\n",
    "from tensorflow.keras.preprocessing.text import Tokenizer\n",
    "from tensorflow.keras.preprocessing.sequence import pad_sequences\n",
    "import numpy as np\n",
    "import warnings\n",
    "warnings.filterwarnings(\"ignore\")\n",
    "import pickle\n",
    "import nltk.translate.gleu_score as gleu\n",
    "import shutil\n",
    "import io\n",
    "from tensorflow.keras.callbacks import ModelCheckpoint\n",
    "from IPython.display import Image"
   ]
  },
  {
   "cell_type": "code",
   "execution_count": 2,
   "metadata": {
    "colab": {
     "base_uri": "https://localhost:8080/"
    },
    "executionInfo": {
     "elapsed": 7988,
     "status": "ok",
     "timestamp": 1618925069521,
     "user": {
      "displayName": "Mridul Agrawal",
      "photoUrl": "https://lh3.googleusercontent.com/a-/AOh14GjLla3WulY1gWW8ujHJjynhCoMSlJj-OuNdjSiaZA=s64",
      "userId": "02424902299468638594"
     },
     "user_tz": -330
    },
    "id": "K13_LtEzSGSc",
    "outputId": "85a20a4b-2495-47ce-d223-7d186fedea25"
   },
   "outputs": [],
   "source": [
    "# !wget --header=\"Host: doc-0c-2g-docs.googleusercontent.com\" --header=\"User-Agent: Mozilla/5.0 (Windows NT 10.0; Win64; x64) AppleWebKit/537.36 (KHTML, like Gecko) Chrome/89.0.4389.128 Safari/537.36\" --header=\"Accept: text/html,application/xhtml+xml,application/xml;q=0.9,image/avif,image/webp,image/apng,*/*;q=0.8,application/signed-exchange;v=b3;q=0.9\" --header=\"Accept-Language: en-US,en;q=0.9\" --header=\"Cookie: AUTH_p1fg4b07u3raciih5atnsbt7sdk7uaqn=04473764286494136551|1618924875000|60dsqp3huc47qtdb95ara1jq0uc7c72j\" --header=\"Connection: keep-alive\" \"https://doc-0c-2g-docs.googleusercontent.com/docs/securesc/k57aefr9gh8rpf3r9srcg2pseasqmf46/7sh3dmbhdb6j121bv7efpsq6ai7j6mao/1618924950000/04473764286494136551/04473764286494136551/1ZQzu5rtBPhZHud16ZP7CK6WZQTg8Zkyd?e=download&authuser=0\" -c -O 'fasttext.zip'\n",
    "# !unzip 'fasttext.zip'"
   ]
  },
  {
   "cell_type": "markdown",
   "metadata": {
    "id": "leIQKhO6SAei"
   },
   "source": [
    "## Making data model ready"
   ]
  },
  {
   "cell_type": "code",
   "execution_count": 3,
   "metadata": {
    "executionInfo": {
     "elapsed": 2339,
     "status": "ok",
     "timestamp": 1618925073607,
     "user": {
      "displayName": "Mridul Agrawal",
      "photoUrl": "https://lh3.googleusercontent.com/a-/AOh14GjLla3WulY1gWW8ujHJjynhCoMSlJj-OuNdjSiaZA=s64",
      "userId": "02424902299468638594"
     },
     "user_tz": -330
    },
    "id": "yTzPiSTOSAek"
   },
   "outputs": [],
   "source": [
    "## loading train, test and CV data\n",
    "train = pd.read_csv(\"train_attention.csv\")\n",
    "cv = pd.read_csv(\"cv_attention.csv\")\n",
    "test = pd.read_csv(\"test_attention.csv\")"
   ]
  },
  {
   "cell_type": "code",
   "execution_count": 4,
   "metadata": {
    "executionInfo": {
     "elapsed": 1210,
     "status": "ok",
     "timestamp": 1618925091601,
     "user": {
      "displayName": "Mridul Agrawal",
      "photoUrl": "https://lh3.googleusercontent.com/a-/AOh14GjLla3WulY1gWW8ujHJjynhCoMSlJj-OuNdjSiaZA=s64",
      "userId": "02424902299468638594"
     },
     "user_tz": -330
    },
    "id": "0WpO1Kf5k_x7"
   },
   "outputs": [],
   "source": [
    "# code reference https://stackoverflow.com/questions/45735070/keras-text-preprocessing-saving-tokenizer-object-to-file-for-scoring\n",
    "# loading saved tokenizer\n",
    "with open(\"tokenizer_incorr_word_attention.pickle\",\"rb\") as temp1:\n",
    "    tokenizer_incorr = pickle.load(temp1)\n",
    "    \n",
    "with open(\"tokenizer_corr_inp_word_attention.pickle\",\"rb\") as temp2:\n",
    "    tokenizer_corr_inp = pickle.load(temp2)\n",
    "    \n",
    "with open(\"tokenizer_corr_out_word_attention.pickle\",\"rb\") as temp3:\n",
    "    tokenizer_corr_out = pickle.load(temp3)"
   ]
  },
  {
   "cell_type": "markdown",
   "metadata": {
    "id": "_Vf9Qq3Pk_yD"
   },
   "source": [
    "Tokenizing senetence for feeding to encoder"
   ]
  },
  {
   "cell_type": "code",
   "execution_count": 5,
   "metadata": {
    "colab": {
     "base_uri": "https://localhost:8080/"
    },
    "executionInfo": {
     "elapsed": 5021,
     "status": "ok",
     "timestamp": 1618925097202,
     "user": {
      "displayName": "Mridul Agrawal",
      "photoUrl": "https://lh3.googleusercontent.com/a-/AOh14GjLla3WulY1gWW8ujHJjynhCoMSlJj-OuNdjSiaZA=s64",
      "userId": "02424902299468638594"
     },
     "user_tz": -330
    },
    "id": "0qtP0jm0k_yF",
    "outputId": "8da6a6f2-1610-40c4-bdaa-f8ccba133867"
   },
   "outputs": [],
   "source": [
    "# tokenizer_incorr = Tokenizer(filters=\"\",lower=False)\n",
    "# tokenizer_incorr.fit_on_texts(train[\"incorrect\"].values)\n",
    "incorr_train = np.array(tokenizer_incorr.texts_to_sequences(train[\"incorrect\"].values))\n",
    "incorr_cv = np.array(tokenizer_incorr.texts_to_sequences(cv[\"incorrect\"].values))\n",
    "#print(\"vocab size of incorrrect sentences is\",len(tokenizer_incorr.word_index))"
   ]
  },
  {
   "cell_type": "markdown",
   "metadata": {
    "id": "7cIM3TFgk_yS"
   },
   "source": [
    "Tokenizing senetence for feeding to decoder as inpput"
   ]
  },
  {
   "cell_type": "code",
   "execution_count": 6,
   "metadata": {
    "colab": {
     "base_uri": "https://localhost:8080/"
    },
    "executionInfo": {
     "elapsed": 6540,
     "status": "ok",
     "timestamp": 1618925100059,
     "user": {
      "displayName": "Mridul Agrawal",
      "photoUrl": "https://lh3.googleusercontent.com/a-/AOh14GjLla3WulY1gWW8ujHJjynhCoMSlJj-OuNdjSiaZA=s64",
      "userId": "02424902299468638594"
     },
     "user_tz": -330
    },
    "id": "gNFZ19dbk_yU",
    "outputId": "0474d1e2-b77d-4ad4-83b0-a9c17c7ad1ef"
   },
   "outputs": [],
   "source": [
    "# tokenizer_corr_inp = Tokenizer(filters=\"\",lower=False)\n",
    "# tokenizer_corr_inp.fit_on_texts(train[\"correct_inp\"].values)\n",
    "corr_train_inp = np.array(tokenizer_corr_inp.texts_to_sequences(train[\"correct_inp\"].values))\n",
    "corr_cv_inp = np.array(tokenizer_corr_inp.texts_to_sequences(cv[\"correct_inp\"].values))\n",
    "#print(\"vocab size of corrrect sentences is\",len(tokenizer_corr_inp.word_index))"
   ]
  },
  {
   "cell_type": "markdown",
   "metadata": {
    "id": "GdQXnwqMk_yX"
   },
   "source": [
    "Tokenizing senetence which will be output of decoder"
   ]
  },
  {
   "cell_type": "code",
   "execution_count": 7,
   "metadata": {
    "colab": {
     "base_uri": "https://localhost:8080/"
    },
    "executionInfo": {
     "elapsed": 8270,
     "status": "ok",
     "timestamp": 1618925103959,
     "user": {
      "displayName": "Mridul Agrawal",
      "photoUrl": "https://lh3.googleusercontent.com/a-/AOh14GjLla3WulY1gWW8ujHJjynhCoMSlJj-OuNdjSiaZA=s64",
      "userId": "02424902299468638594"
     },
     "user_tz": -330
    },
    "id": "6bvQ2ijUk_yg",
    "outputId": "3fe43ca0-4aa3-4ba9-9f9e-5f9785655e6c"
   },
   "outputs": [],
   "source": [
    "# tokenizer_corr_out = Tokenizer(filters=\"\",lower=False)\n",
    "# tokenizer_corr_out.fit_on_texts(train[\"correct_out\"].values)\n",
    "corr_train_out = np.array(tokenizer_corr_out.texts_to_sequences(train[\"correct_out\"].values))\n",
    "corr_cv_out = np.array(tokenizer_corr_out.texts_to_sequences(cv[\"correct_out\"].values))\n",
    "#print(\"vocab size of corrrect sentences is\",len(tokenizer_corr_out.word_index))"
   ]
  },
  {
   "cell_type": "code",
   "execution_count": 8,
   "metadata": {
    "id": "wyPmAsbXk_yk"
   },
   "outputs": [],
   "source": [
    "## #save keras tokenizer\n",
    "\n",
    "# with open(\"tokenizer_incorr_word_attention.pickle\",\"wb\") as temp1:\n",
    "#     pickle.dump(tokenizer_incorr,temp1)\n",
    "    \n",
    "# with open(\"tokenizer_corr_inp_word_attention.pickle\",\"wb\") as temp2:\n",
    "#     pickle.dump(tokenizer_corr_inp,temp2)\n",
    "    \n",
    "# with open(\"tokenizer_corr_out_word_attention.pickle\",\"wb\") as temp3:\n",
    "#     pickle.dump(tokenizer_corr_out,temp3)"
   ]
  },
  {
   "cell_type": "markdown",
   "metadata": {
    "id": "YhFPFa8Tk_0X"
   },
   "source": [
    "Padding training data"
   ]
  },
  {
   "cell_type": "code",
   "execution_count": 9,
   "metadata": {
    "executionInfo": {
     "elapsed": 10568,
     "status": "ok",
     "timestamp": 1618925108307,
     "user": {
      "displayName": "Mridul Agrawal",
      "photoUrl": "https://lh3.googleusercontent.com/a-/AOh14GjLla3WulY1gWW8ujHJjynhCoMSlJj-OuNdjSiaZA=s64",
      "userId": "02424902299468638594"
     },
     "user_tz": -330
    },
    "id": "OvWM3hG9SAey"
   },
   "outputs": [],
   "source": [
    "incorr_train = np.array(pad_sequences(incorr_train,maxlen=25,padding=\"post\",truncating='post'))\n",
    "corr_train_inp = np.array(pad_sequences(corr_train_inp,maxlen=25,padding=\"post\",truncating='post'))\n",
    "corr_train_out = np.array(pad_sequences(corr_train_out,maxlen=25,padding=\"post\",truncating='post'))\n",
    "\n",
    "incorr_cv = np.array(pad_sequences(incorr_cv,maxlen=25,padding=\"post\",truncating='post'))\n",
    "corr_cv_inp = np.array(pad_sequences(corr_cv_inp,maxlen=25,padding=\"post\",truncating='post'))\n",
    "corr_cv_out = np.array(pad_sequences(corr_cv_out,maxlen=25,padding=\"post\",truncating='post'))"
   ]
  },
  {
   "cell_type": "markdown",
   "metadata": {
    "id": "I8XhRWboh-S9"
   },
   "source": [
    "#### Using pretrained fasttext embeddings"
   ]
  },
  {
   "cell_type": "code",
   "execution_count": 10,
   "metadata": {
    "id": "zjs1dMODh-TD"
   },
   "outputs": [],
   "source": [
    "# !wget --header=\"Host: dl.fbaipublicfiles.com\" --header=\"User-Agent: Mozilla/5.0 (Windows NT 10.0; Win64; x64) AppleWebKit/537.36 (KHTML, like Gecko) Chrome/89.0.4389.114 Safari/537.36\" --header=\"Accept: text/html,application/xhtml+xml,application/xml;q=0.9,image/avif,image/webp,image/apng,*/*;q=0.8,application/signed-exchange;v=b3;q=0.9\" --header=\"Accept-Language: en-US,en;q=0.9\" --header=\"Referer: https://fasttext.cc/\" --header=\"Cookie: __cfduid=d0995b9a675be50a9c5a78dbf19cacc201617113683\" --header=\"Connection: keep-alive\" \"https://dl.fbaipublicfiles.com/fasttext/vectors-english/wiki-news-300d-1M.vec.zip\" -c -O 'wiki-news-300d-1M.vec.zip'\n",
    "# !unzip \"wiki-news-300d-1M.vec.zip\""
   ]
  },
  {
   "cell_type": "code",
   "execution_count": 11,
   "metadata": {
    "id": "hmlB6WBqh-TE"
   },
   "outputs": [],
   "source": [
    "##code taken from https://fasttext.cc/docs/en/crawl-vectors.html\n",
    "\n",
    "# def load_vectors(fname):\n",
    "#     \"\"\"\n",
    "#     this function tales name of zipped file as input and returns word and corresponging embeddings as dictionary\n",
    "#     \"\"\"\n",
    "#     fin = io.open(fname, 'r', encoding='utf-8', newline='\\n', errors='ignore')\n",
    "#     n, d = map(int, fin.readline().split())\n",
    "#     data = {}\n",
    "#     for line in fin:\n",
    "#         tokens = line.rstrip().split(' ')\n",
    "#         data[tokens[0]] = map(float, tokens[1:])\n",
    "#     return data\n",
    "# dic = load_vectors(\"wiki-news-300d-1M.vec\")"
   ]
  },
  {
   "cell_type": "code",
   "execution_count": 12,
   "metadata": {
    "id": "_sOEZl5ch-TG"
   },
   "outputs": [],
   "source": [
    "##save dictionary to disk\n",
    "# with open(\"dic_atention.pickle\",\"wb\") as temp1:\n",
    "#     pickle.dump(dic,temp1)"
   ]
  },
  {
   "cell_type": "code",
   "execution_count": 13,
   "metadata": {
    "id": "miJC0RgRk_0e"
   },
   "outputs": [],
   "source": [
    "# with open(\"dic_atention.pickle\",\"rb\") as temp1:\n",
    "#     embeddings_index = pickle.load(temp1)"
   ]
  },
  {
   "cell_type": "code",
   "execution_count": 14,
   "metadata": {
    "id": "q9m7oehYk_0h"
   },
   "outputs": [],
   "source": [
    "## prepare embedding matrix 1\n",
    "\n",
    "# embedding_matrix1 = np.zeros((52614, 300))\n",
    "# for word, i in tokenizer_incorr.word_index.items():\n",
    "#     embedding_vector = embeddings_index.get(word)\n",
    "#     if embedding_vector is not None:\n",
    "#         embedding_matrix1[i] = list(embedding_vector)\n",
    "#     else:\n",
    "#         print(\"hi\")\n",
    "\n",
    "## save embedding matrix 1 to disk\n",
    "#np.save(\"incorr_matrix\",embedding_matrix1)"
   ]
  },
  {
   "cell_type": "code",
   "execution_count": 15,
   "metadata": {
    "executionInfo": {
     "elapsed": 5425,
     "status": "ok",
     "timestamp": 1618925108308,
     "user": {
      "displayName": "Mridul Agrawal",
      "photoUrl": "https://lh3.googleusercontent.com/a-/AOh14GjLla3WulY1gWW8ujHJjynhCoMSlJj-OuNdjSiaZA=s64",
      "userId": "02424902299468638594"
     },
     "user_tz": -330
    },
    "id": "PTpW7NW6k_0k"
   },
   "outputs": [],
   "source": [
    "embedding_matrix1 = np.load(\"incorr_matrix.npy\")"
   ]
  },
  {
   "cell_type": "code",
   "execution_count": 16,
   "metadata": {
    "id": "NFV81wQEk_0l"
   },
   "outputs": [],
   "source": [
    "## prepare embedding matrix 2\n",
    "\n",
    "# embedding_matrix2 = np.zeros((47127, 300))\n",
    "# for word, i in tokenizer_corr_inp.word_index.items():\n",
    "#     embedding_vector = embeddings_index.get(word)\n",
    "#     if embedding_vector is not None:\n",
    "#         embedding_matrix2[i] = list(embedding_vector)\n",
    "#     else:\n",
    "#         print(word,i)\n",
    "        \n",
    "# ## save embedding matrix 2 to disk\n",
    "# np.save(\"corr_matrix\",embedding_matrix2)"
   ]
  },
  {
   "cell_type": "code",
   "execution_count": 17,
   "metadata": {
    "executionInfo": {
     "elapsed": 4020,
     "status": "ok",
     "timestamp": 1618925108309,
     "user": {
      "displayName": "Mridul Agrawal",
      "photoUrl": "https://lh3.googleusercontent.com/a-/AOh14GjLla3WulY1gWW8ujHJjynhCoMSlJj-OuNdjSiaZA=s64",
      "userId": "02424902299468638594"
     },
     "user_tz": -330
    },
    "id": "d-2Ob9fPk_0y"
   },
   "outputs": [],
   "source": [
    "embedding_matrix2 = np.load(\"corr_matrix.npy\")"
   ]
  },
  {
   "cell_type": "markdown",
   "metadata": {
    "id": "Ys56y_bzk_0z"
   },
   "source": [
    "#### Defining model artchitecture"
   ]
  },
  {
   "cell_type": "code",
   "execution_count": 18,
   "metadata": {
    "executionInfo": {
     "elapsed": 1863,
     "status": "ok",
     "timestamp": 1618925128933,
     "user": {
      "displayName": "Mridul Agrawal",
      "photoUrl": "https://lh3.googleusercontent.com/a-/AOh14GjLla3WulY1gWW8ujHJjynhCoMSlJj-OuNdjSiaZA=s64",
      "userId": "02424902299468638594"
     },
     "user_tz": -330
    },
    "id": "8T9wEVigrcNY"
   },
   "outputs": [],
   "source": [
    "############################## Encoder class #############################################################\n",
    "\n",
    "class Encoder(tf.keras.layers.Layer):\n",
    "    '''\n",
    "    Encoder model -- That takes a input sequence and returns encoder-outputs,encoder_final_state_h,encoder_final_state_c\n",
    "    '''\n",
    "\n",
    "    def __init__(self,inp_vocab_size,embedding_size,lstm_size,input_length):\n",
    "        \n",
    "        super().__init__()\n",
    "        self.lstm_size = lstm_size\n",
    "        self.embedding = Embedding(input_dim=inp_vocab_size, output_dim=300, input_length=input_length,\n",
    "                           mask_zero=True,name=\"embedding_layer_encoder\", weights=[embedding_matrix1], trainable=False)\n",
    "        self.conv1 = Conv1D(filters=lstm_size//2,kernel_size=10,activation='relu',kernel_initializer=tf.keras.initializers.HeNormal(),padding=\"same\")\n",
    "        self.conv2 = Conv1D(filters=lstm_size,kernel_size=8,activation='relu',kernel_initializer=tf.keras.initializers.HeNormal(),padding=\"same\")\n",
    "        \n",
    "        self.lstmcell = tf.keras.layers.LSTMCell(lstm_size)\n",
    "        self.encoder_lstm = RNN(self.lstmcell,return_sequences=True, return_state=True)\n",
    "\n",
    "\n",
    "    def call(self,input_sequence,states):\n",
    "\n",
    "        output1 = self.embedding(input_sequence)\n",
    "        #print(output1.shape)\n",
    "        mask = self.embedding.compute_mask(input_sequence)\n",
    "        output2 = self.conv1(output1)\n",
    "        #print(output1.shape)\n",
    "        output2 = self.conv2(output2)\n",
    "        #print(output2.shape)\n",
    "        enco_output, enco_state_h, enco_state_c = self.encoder_lstm(output1, initial_state=states,mask=mask)\n",
    "        #print(enco_output.shape,enco_state_h.shape)\n",
    "        final_output = tf.math.add(enco_output,output2)#, axes=2, name=None)\n",
    "        #print(\"final\",final_output.shape)\n",
    "        #return final_output, enco_state_h, enco_state_c\n",
    "        return enco_output, final_output[:,9,:], enco_state_c\n",
    "\n",
    "    \n",
    "    def initialize_states(self,batch_size):\n",
    "\n",
    "        initial_hidden_state = tf.zeros([batch_size,self.lstm_size])\n",
    "        initial_cell_state = tf.zeros([batch_size,self.lstm_size])\n",
    "        \n",
    "        return [initial_hidden_state,initial_cell_state]"
   ]
  },
  {
   "cell_type": "code",
   "execution_count": 19,
   "metadata": {
    "executionInfo": {
     "elapsed": 1368,
     "status": "ok",
     "timestamp": 1618925137283,
     "user": {
      "displayName": "Mridul Agrawal",
      "photoUrl": "https://lh3.googleusercontent.com/a-/AOh14GjLla3WulY1gWW8ujHJjynhCoMSlJj-OuNdjSiaZA=s64",
      "userId": "02424902299468638594"
     },
     "user_tz": -330
    },
    "id": "IZ0k4Xx7SAe1"
   },
   "outputs": [],
   "source": [
    "############################## Decoder class #############################################################\n",
    "    \n",
    "# code reference for concat scoing scoring function from https://www.tensorflow.org/tutorials/text/nmt_with_attention\n",
    "from tensorflow.keras.layers import Input, Softmax, RNN, Dense, Embedding, LSTM\n",
    "class Attention(tf.keras.layers.Layer):\n",
    "  '''\n",
    "    Class the calculates score based on the scoring_function using Bahdanu attention mechanism.\n",
    "  '''\n",
    "  def __init__(self,scoring_function,att_units):\n",
    "\n",
    "\n",
    "    # Please go through the reference notebook and research paper to complete the scoring functions\n",
    "    super().__init__()\n",
    "    self.scoring_function = scoring_function\n",
    "    \n",
    "    if self.scoring_function=='dot':\n",
    "      # Intialize variables needed for Dot score function here\n",
    "        #self.similarity = []\n",
    "        self.softmax = Softmax(axis=1)\n",
    "        #self.similarity = [j for j in range(att_units)]\n",
    "        pass\n",
    "    \n",
    "  def call(self,decoder_hidden_state,encoder_output):\n",
    "    \n",
    "    if self.scoring_function == 'dot':\n",
    "        # Implement Dot score function here\n",
    "        #print(decoder_hidden_state.shape,encoder_output.shape)\n",
    "        attention_weight = tf.matmul(encoder_output,tf.expand_dims(decoder_hidden_state,axis=2))\n",
    "        #print(attention_weight.shape)\n",
    "        context = tf.matmul(tf.transpose(encoder_output, perm=[0,2,1]),attention_weight)\n",
    "        context = tf.squeeze(context,axis=2)\n",
    "        output = self.softmax(attention_weight)\n",
    "        return context,output\n",
    "    \n",
    "class One_Step_Decoder(tf.keras.Model):\n",
    "  def __init__(self,tar_vocab_size, embedding_dim, input_length, dec_units ,score_fun ,att_units):\n",
    "\n",
    "      # Initialize decoder embedding layer, LSTM and any other objects needed\n",
    "        super().__init__()\n",
    "        self.tar_vocab_size = tar_vocab_size\n",
    "        self.lstm_size = dec_units\n",
    "        self.att_units = att_units\n",
    "        self.score_fun = score_fun\n",
    "        #print(\"output vocan size \",tar_vocab_size)\n",
    "        self.embedding = Embedding(input_dim=tar_vocab_size, output_dim=300, input_length=input_length,\n",
    "                           mask_zero=True,name=\"embedding_layer_encoder\",weights=[embedding_matrix2], trainable=False)\n",
    "        self.lstmcell = tf.keras.layers.LSTMCell(dec_units)\n",
    "        self.decoder_lstm = RNN(self.lstmcell,return_sequences=True, return_state=True)\n",
    "        self.dense   = Dense(tar_vocab_size)\n",
    "        #self.decoder_lstm = LSTM(lstm_size, return_state=True, return_sequences=True, name=\"decoder_LSTM\")\n",
    "        self.attention=Attention(self.score_fun,self.att_units)\n",
    "\n",
    "\n",
    "  def call(self,input_to_decoder, encoder_output, state_h,state_c):\n",
    "\n",
    "        output2 = self.embedding(input_to_decoder)\n",
    "        mask = self.embedding.compute_mask(input_to_decoder)\n",
    "        #print(\"one step decoder SHAPE after embedding:\",output2.shape)\n",
    "        output2 = tf.squeeze(output2,axis=1)\n",
    "        #print(\"one step decoder SHAPE after embedding and sqeezing:\",output2.shape)\n",
    "\n",
    "        # step b\n",
    "#         attention=Attention(self.score_fun,self.att_units)\n",
    "        context_vector,attention_weights=self.attention(state_h,encoder_output)\n",
    "        #print(\"shape of context vector is\",context_vector.shape)\n",
    "        # step c\n",
    "        output3 = tf.concat([context_vector,output2],1)\n",
    "        #print(\"shape after concating \",output3.shape)\n",
    "        output3 = tf.expand_dims(output3,1)\n",
    "        deco_output, deco_state_h, deco_state_c = self.decoder_lstm(output3,initial_state=[state_h,state_c],mask=mask)\n",
    "        # step e\n",
    "        output4 = self.dense(deco_output)\n",
    "        output4 = tf.squeeze(output4,axis=1)\n",
    "        #print(\"shape afyer dense layer and softmax \",output4.shape)\n",
    "        return output4,deco_state_h, deco_state_c,attention_weights,context_vector\n",
    "    \n",
    "class Decoder(tf.keras.Model):\n",
    "    def __init__(self,out_vocab_size, embedding_dim, input_length, dec_units ,score_fun ,att_units):\n",
    "      #Intialize necessary variables and create an object from the class onestepdecoder\n",
    "        super().__init__()\n",
    "        self.out_vocab_size = out_vocab_size\n",
    "        self.embedding_dim = embedding_dim\n",
    "        self.dec_units = dec_units\n",
    "        self.att_units = att_units\n",
    "        self.input_length = input_length\n",
    "        self.score_fun = score_fun\n",
    "        self.onestepdecoder = One_Step_Decoder(self.out_vocab_size,self.embedding_dim,self.input_length,self.dec_units,self.score_fun,self.att_units)\n",
    "        \n",
    "    @tf.function    \n",
    "    def call(self, input_to_decoder,encoder_output,decoder_hidden_state,decoder_cell_state):\n",
    "\n",
    "\n",
    "        all_outputs = tf.TensorArray(tf.float32,size=input_to_decoder.shape[1])\n",
    "        for timestep in range(input_to_decoder.shape[1]):\n",
    "            output,decoder_hidden_state,decoder_cell_state,attention_weights,context_vector=self.onestepdecoder(input_to_decoder[:,timestep:timestep+1],encoder_output,decoder_hidden_state,decoder_cell_state)\n",
    "            all_outputs = all_outputs.write(timestep,output)\n",
    "        # Return the tensor array\n",
    "        all_outputs = tf.transpose(all_outputs.stack(),[1,0,2])\n",
    "        #print(\"all outpt shape is \",all_outputs.shape)\n",
    "        return all_outputs\n",
    "    \n",
    "class encoder_decoder(tf.keras.Model):\n",
    "  def __init__(self,inp_vocab_size,out_vocab_size,embedding_size,lstm_size,input_length,batch_size,score_fun,att_units,*args):\n",
    "    #Intialize objects from encoder decoder\n",
    "    super().__init__() # https://stackoverflow.com/a/27134600/4084039\n",
    "    #print(\"input vocab size in encoder decoder class\",inp_vocab_size)\n",
    "    self.encoder = Encoder(inp_vocab_size,embedding_size,lstm_size,input_length)\n",
    "    #print(\"output vocab size in encoder decoder class\",out_vocab_size)\n",
    "    self.decoder = Decoder(out_vocab_size,embedding_size,input_length,lstm_size,score_fun,att_units)\n",
    "    #self.dense   = Dense(out_vocab_size, activation='softmax')\n",
    "    #self.flatten = Flatten()\n",
    "    self.batch = batch_size\n",
    "  \n",
    "  def call(self,data):\n",
    "    input,output = data[0], data[1]\n",
    "    #Intialize encoder states, Pass the encoder_sequence to the embedding layer\n",
    "    l = self.encoder.initialize_states(self.batch)\n",
    "    #print(\"WE ARE INITIALIZING encoder WITH initial STATES as zeroes :\",l[0].shape, l[1].shape)\n",
    "    encoder_output,encoder_final_state_h,encoder_final_state_c = self.encoder(input,l)\n",
    "    decoder_output = self.decoder(output,encoder_output,encoder_final_state_h,encoder_final_state_c)\n",
    "    return decoder_output"
   ]
  },
  {
   "cell_type": "code",
   "execution_count": 20,
   "metadata": {
    "executionInfo": {
     "elapsed": 7423,
     "status": "ok",
     "timestamp": 1618925177525,
     "user": {
      "displayName": "Mridul Agrawal",
      "photoUrl": "https://lh3.googleusercontent.com/a-/AOh14GjLla3WulY1gWW8ujHJjynhCoMSlJj-OuNdjSiaZA=s64",
      "userId": "02424902299468638594"
     },
     "user_tz": -330
    },
    "id": "7nIeLC_tSAfC"
   },
   "outputs": [],
   "source": [
    "inp_vocab_size = 52614\n",
    "out_vocab_size = 47127\n",
    "embedding_dim=300\n",
    "input_length=25\n",
    "lstm_size = 128\n",
    "batch_size=512\n",
    "score_fun = \"dot\"\n",
    "att_units = 128\n",
    "#model = encoder_decoder(inp_vocab_size,out_vocab_size,embedding_dim,lstm_size,input_length,batch_size,score_fun,att_units)\n",
    "\n",
    "optimizer = tf.keras.optimizers.Adam()\n",
    "#defining custom loss function which will not consider loss for padded zeroes\n",
    "# code taken from attention assignment\n",
    "loss_object = tf.keras.losses.SparseCategoricalCrossentropy(from_logits=True, reduction='none')\n",
    "def loss_function(real, pred):\n",
    "  mask = tf.math.logical_not(tf.math.equal(real, 0))\n",
    "  loss_ = loss_object(real, pred)\n",
    "\n",
    "  mask = tf.cast(mask, dtype=loss_.dtype)\n",
    "  loss_ *= mask\n",
    "\n",
    "  return tf.reduce_mean(loss_)\n",
    "#model.compile(optimizer=optimizer,loss=loss_function)"
   ]
  },
  {
   "cell_type": "code",
   "execution_count": 16,
   "metadata": {
    "executionInfo": {
     "elapsed": 1261,
     "status": "ok",
     "timestamp": 1618925194875,
     "user": {
      "displayName": "Mridul Agrawal",
      "photoUrl": "https://lh3.googleusercontent.com/a-/AOh14GjLla3WulY1gWW8ujHJjynhCoMSlJj-OuNdjSiaZA=s64",
      "userId": "02424902299468638594"
     },
     "user_tz": -330
    },
    "id": "SDekDPDDSAfO"
   },
   "outputs": [],
   "source": [
    "##Load the TensorBoard notebook extension\n",
    "import datetime\n",
    "%load_ext tensorboard\n",
    "!rm -rf ./logs/"
   ]
  },
  {
   "cell_type": "markdown",
   "metadata": {
    "id": "ZSYSmYzhk_1F"
   },
   "source": [
    "Train the model"
   ]
  },
  {
   "cell_type": "code",
   "execution_count": 17,
   "metadata": {
    "colab": {
     "base_uri": "https://localhost:8080/"
    },
    "executionInfo": {
     "elapsed": 3483191,
     "status": "ok",
     "timestamp": 1618928688420,
     "user": {
      "displayName": "Mridul Agrawal",
      "photoUrl": "https://lh3.googleusercontent.com/a-/AOh14GjLla3WulY1gWW8ujHJjynhCoMSlJj-OuNdjSiaZA=s64",
      "userId": "02424902299468638594"
     },
     "user_tz": -330
    },
    "id": "wBmynBGdSAfP",
    "outputId": "9e58b5b5-08b9-4216-9146-5c59245d3d4d"
   },
   "outputs": [
    {
     "name": "stdout",
     "output_type": "stream",
     "text": [
      "Epoch 1/10\n",
      "724/724 [==============================] - 395s 467ms/step - loss: 3.3447 - val_loss: 2.8320\n",
      "\n",
      "Epoch 00001: val_loss improved from inf to 2.83197, saving model to /content/drive/MyDrive/attention_model/weights-01-2.8320.hdf5\n",
      "Epoch 2/10\n",
      "724/724 [==============================] - 339s 468ms/step - loss: 2.7424 - val_loss: 2.5566\n",
      "\n",
      "Epoch 00002: val_loss improved from 2.83197 to 2.55659, saving model to /content/drive/MyDrive/attention_model/weights-02-2.5566.hdf5\n",
      "Epoch 3/10\n",
      "724/724 [==============================] - 339s 469ms/step - loss: 2.4885 - val_loss: 2.3653\n",
      "\n",
      "Epoch 00003: val_loss improved from 2.55659 to 2.36533, saving model to /content/drive/MyDrive/attention_model/weights-03-2.3653.hdf5\n",
      "Epoch 4/10\n",
      "724/724 [==============================] - 340s 469ms/step - loss: 2.3146 - val_loss: 2.2276\n",
      "\n",
      "Epoch 00004: val_loss improved from 2.36533 to 2.22765, saving model to /content/drive/MyDrive/attention_model/weights-04-2.2276.hdf5\n",
      "Epoch 5/10\n",
      "724/724 [==============================] - 340s 470ms/step - loss: 2.1894 - val_loss: 2.1499\n",
      "\n",
      "Epoch 00005: val_loss improved from 2.22765 to 2.14994, saving model to /content/drive/MyDrive/attention_model/weights-05-2.1499.hdf5\n",
      "Epoch 6/10\n",
      "724/724 [==============================] - 341s 470ms/step - loss: 2.0916 - val_loss: 2.8570\n",
      "\n",
      "Epoch 00006: val_loss did not improve from 2.14994\n",
      "Epoch 7/10\n",
      "724/724 [==============================] - 340s 469ms/step - loss: 2.5410 - val_loss: 2.2962\n",
      "\n",
      "Epoch 00007: val_loss did not improve from 2.14994\n",
      "Epoch 8/10\n",
      "724/724 [==============================] - 340s 470ms/step - loss: 2.2246 - val_loss: 2.0940\n",
      "\n",
      "Epoch 00008: val_loss improved from 2.14994 to 2.09396, saving model to /content/drive/MyDrive/attention_model/weights-08-2.0940.hdf5\n",
      "Epoch 9/10\n",
      "724/724 [==============================] - 340s 470ms/step - loss: 2.1012 - val_loss: 2.0169\n",
      "\n",
      "Epoch 00009: val_loss improved from 2.09396 to 2.01694, saving model to /content/drive/MyDrive/attention_model/weights-09-2.0169.hdf5\n",
      "Epoch 10/10\n",
      "724/724 [==============================] - 340s 469ms/step - loss: 2.6008 - val_loss: 2.5013\n",
      "\n",
      "Epoch 00010: val_loss did not improve from 2.01694\n"
     ]
    },
    {
     "data": {
      "text/plain": [
       "<tensorflow.python.keras.callbacks.History at 0x7fecf5a40910>"
      ]
     },
     "execution_count": 17,
     "metadata": {
      "tags": []
     },
     "output_type": "execute_result"
    }
   ],
   "source": [
    "filepath=\"/content/drive/MyDrive/attention_model/weights-{epoch:02d}-{val_loss:.4f}.hdf5\"\n",
    "model_checkpoint = ModelCheckpoint(filepath=filepath, monitor='val_loss',  verbose=1, save_best_only=True, mode='auto',save_weights_only=True)\n",
    "\n",
    "log_dir = \"/content/drive/MyDrive/attention_model/logs/fit/\" + datetime.datetime.now().strftime(\"%Y%m%d-%H%M%S\")\n",
    "tensorboard_callback = tf.keras.callbacks.TensorBoard(log_dir=log_dir, histogram_freq=1)\n",
    "\n",
    "model.fit(x=[incorr_train,corr_train_inp],y=corr_train_out, epochs=10,batch_size=512,validation_data=([incorr_cv,corr_cv_inp],corr_cv_out),callbacks=[model_checkpoint,tensorboard_callback])"
   ]
  },
  {
   "cell_type": "code",
   "execution_count": 31,
   "metadata": {
    "executionInfo": {
     "elapsed": 1468,
     "status": "ok",
     "timestamp": 1618929237974,
     "user": {
      "displayName": "Mridul Agrawal",
      "photoUrl": "https://lh3.googleusercontent.com/a-/AOh14GjLla3WulY1gWW8ujHJjynhCoMSlJj-OuNdjSiaZA=s64",
      "userId": "02424902299468638594"
     },
     "user_tz": -330
    },
    "id": "TOsjOlRllIRt"
   },
   "outputs": [],
   "source": [
    "#%tensorboard --logdir /content/drive/MyDrive/attention_model/logs/fit"
   ]
  },
  {
   "cell_type": "markdown",
   "metadata": {
    "id": "I8I_MWDyh-Td"
   },
   "source": [
    "#### load the trained model"
   ]
  },
  {
   "cell_type": "code",
   "execution_count": 21,
   "metadata": {
    "executionInfo": {
     "elapsed": 26528,
     "status": "ok",
     "timestamp": 1618928849269,
     "user": {
      "displayName": "Mridul Agrawal",
      "photoUrl": "https://lh3.googleusercontent.com/a-/AOh14GjLla3WulY1gWW8ujHJjynhCoMSlJj-OuNdjSiaZA=s64",
      "userId": "02424902299468638594"
     },
     "user_tz": -330
    },
    "id": "uB6QGN0JC5y4"
   },
   "outputs": [],
   "source": [
    "model = encoder_decoder(inp_vocab_size,out_vocab_size,embedding_dim,lstm_size,input_length,batch_size,score_fun,att_units)\n",
    "model.compile(optimizer=optimizer,loss=loss_function)\n",
    "model.train_on_batch([incorr_train[:512],corr_train_inp[:512]],corr_train_out[:512])\n",
    "model.load_weights('weights-09-2.0169.hdf5')"
   ]
  },
  {
   "cell_type": "code",
   "execution_count": 22,
   "metadata": {},
   "outputs": [
    {
     "name": "stdout",
     "output_type": "stream",
     "text": [
      "Model: \"encoder_decoder\"\n",
      "_________________________________________________________________\n",
      "Layer (type)                 Output Shape              Param #   \n",
      "=================================================================\n",
      "encoder (Encoder)            multiple                  16261576  \n",
      "_________________________________________________________________\n",
      "decoder (Decoder)            multiple                  20502667  \n",
      "=================================================================\n",
      "Total params: 36,764,243\n",
      "Trainable params: 6,841,943\n",
      "Non-trainable params: 29,922,300\n",
      "_________________________________________________________________\n"
     ]
    }
   ],
   "source": [
    "model.summary()"
   ]
  },
  {
   "cell_type": "markdown",
   "metadata": {
    "id": "cE8i67qmk_1R"
   },
   "source": [
    "Defining predict function"
   ]
  },
  {
   "cell_type": "code",
   "execution_count": 23,
   "metadata": {
    "executionInfo": {
     "elapsed": 1355,
     "status": "ok",
     "timestamp": 1618928853777,
     "user": {
      "displayName": "Mridul Agrawal",
      "photoUrl": "https://lh3.googleusercontent.com/a-/AOh14GjLla3WulY1gWW8ujHJjynhCoMSlJj-OuNdjSiaZA=s64",
      "userId": "02424902299468638594"
     },
     "user_tz": -330
    },
    "id": "WfkHW5_gk_1R"
   },
   "outputs": [],
   "source": [
    "corr_dict = tokenizer_corr_out.word_index\n",
    "inv_corr = {v: k for k, v in corr_dict.items()}\n",
    "\n",
    "def predict(input_sentence):\n",
    "    \"\"\"\n",
    "    this function takes incorrect sentence as input and returns correct sentence as output\n",
    "    \"\"\"\n",
    "    input_sentence = tokenizer_incorr.texts_to_sequences([input_sentence])[0]\n",
    "    #print(input_sentence)\n",
    "    #x = len(input_sentence)\n",
    "    #attention_plot = np.zeros((22,22))# here 22,22 is length of italian and english sentences\n",
    "    initial_hidden_state = tf.zeros([1,128])\n",
    "    initial_cell_state = tf.zeros([1,128])\n",
    "    encoder_initial_state = [initial_hidden_state,initial_cell_state]\n",
    "    input_sentence = tf.keras.preprocessing.sequence.pad_sequences([input_sentence],maxlen=25,padding='post')\n",
    "    input_sentence = input_sentence[0]\n",
    "    enc_output, enc_state_h, enc_state_c = model.layers[0](np.expand_dims(input_sentence,0),encoder_initial_state)\n",
    "    #states_values = [enc_state_h, enc_state_c]\n",
    "    pred = []\n",
    "    sentence = []\n",
    "    cur_vec = np.ones((1, 1),dtype='int')\n",
    "    for i in range(26):\n",
    "        #print(i)\n",
    "        #print(enc_output.shape)\n",
    "        infe_output,deco_state_h, deco_state_c,attention_weights,context_vector = model.layers[1].onestepdecoder(cur_vec, enc_output,enc_state_h, enc_state_c)\n",
    "        enc_state_h, enc_state_c = deco_state_h, deco_state_c\n",
    "        cur_vec = np.reshape(np.argmax(infe_output), (1, 1))\n",
    "        #print(cur_vec)\n",
    "        if inv_corr[cur_vec[0][0]] == '@':\n",
    "            break\n",
    "        pred.append(cur_vec[0][0])\n",
    "    for i in pred:\n",
    "        sentence.append(inv_corr[i])\n",
    "    return \" \".join(sentence)"
   ]
  },
  {
   "cell_type": "markdown",
   "metadata": {},
   "source": [
    "#### GLUE Score on test data"
   ]
  },
  {
   "cell_type": "code",
   "execution_count": 26,
   "metadata": {},
   "outputs": [
    {
     "name": "stdout",
     "output_type": "stream",
     "text": [
      "Final GLEU Score on Test data are 0.1296994573013314\n"
     ]
    }
   ],
   "source": [
    "from nltk.translate.gleu_score import sentence_gleu\n",
    "\n",
    "gleu_score_test = 0\n",
    "length = 1000\n",
    "\n",
    "for i in range(length):\n",
    "    reference = [test[\"correct\"].values[i:i+1][0].split()]\n",
    "    candidate = predict(test[\"incorrect\"].values[i:i+1][0]).split()\n",
    "    gleu_score_test = gleu_score_test + sentence_gleu(reference, candidate)\n",
    "print(\"Final GLEU Score on Test data are\",gleu_score_test/length)"
   ]
  },
  {
   "cell_type": "markdown",
   "metadata": {
    "id": "xfwr7ZInk_1S"
   },
   "source": [
    "#### Prediting results on train data"
   ]
  },
  {
   "cell_type": "code",
   "execution_count": 26,
   "metadata": {
    "colab": {
     "base_uri": "https://localhost:8080/"
    },
    "executionInfo": {
     "elapsed": 2516,
     "status": "ok",
     "timestamp": 1618928857265,
     "user": {
      "displayName": "Mridul Agrawal",
      "photoUrl": "https://lh3.googleusercontent.com/a-/AOh14GjLla3WulY1gWW8ujHJjynhCoMSlJj-OuNdjSiaZA=s64",
      "userId": "02424902299468638594"
     },
     "user_tz": -330
    },
    "id": "Dsulafp-SAfb",
    "outputId": "8bfe038e-1c00-4345-fc70-1a08d3d3f443"
   },
   "outputs": [
    {
     "name": "stdout",
     "output_type": "stream",
     "text": [
      "I am English English to English to English to English to English to English to English .\n",
      "So I not not not not not not not not not not .\n",
      "The of of the the the the the the the the the the the the the the .\n",
      "My friend friend my friends my my my friends !\n",
      "Today I have a my friend of my friend .\n",
      "I know that that that the the .\n",
      "So , I think that are many are many are many in the the people .\n",
      "And the the the the the the the the the the the\n",
      "But I have study to study .\n",
      "The the the the the the the the\n"
     ]
    }
   ],
   "source": [
    "#predicted sentences\n",
    "for i in train[\"incorrect\"].values[:10]:\n",
    "  print(predict(i))"
   ]
  },
  {
   "cell_type": "code",
   "execution_count": 27,
   "metadata": {
    "colab": {
     "base_uri": "https://localhost:8080/"
    },
    "executionInfo": {
     "elapsed": 1661,
     "status": "ok",
     "timestamp": 1618928865348,
     "user": {
      "displayName": "Mridul Agrawal",
      "photoUrl": "https://lh3.googleusercontent.com/a-/AOh14GjLla3WulY1gWW8ujHJjynhCoMSlJj-OuNdjSiaZA=s64",
      "userId": "02424902299468638594"
     },
     "user_tz": -330
    },
    "id": "OqA-z4MBSAfc",
    "outputId": "7967e586-1560-4a06-9fdb-e04eef846714"
   },
   "outputs": [
    {
     "data": {
      "text/plain": [
       "array(['I signed up on Lang   because I want to improve my English and I want learn Spanish .',\n",
       "       \"So I ended up buying stuff I did ' nt expect to buy .\",\n",
       "       ' MINI STOP  is one of the popular convenience stores in Japan and sells several delicious ice creams .',\n",
       "       'My dog and I went to see my mom off  !',\n",
       "       'Today I received a message from one of my Lang   friends .',\n",
       "       'I know that radioactivity is dangerous .',\n",
       "       'So , I wonder if there are surprising things eaten or so in your country .',\n",
       "       'And the lecturer told the students that they were expected to use their',\n",
       "       'But I had to take the TOEIC today .',\n",
       "       'The office is locked on weekends .'], dtype=object)"
      ]
     },
     "execution_count": 27,
     "metadata": {
      "tags": []
     },
     "output_type": "execute_result"
    }
   ],
   "source": [
    "#actual sentences\n",
    "train[\"correct\"].values[:10]"
   ]
  },
  {
   "cell_type": "markdown",
   "metadata": {
    "id": "NlfZFyBXh-Tw"
   },
   "source": [
    "#### Prediting results on CV data"
   ]
  },
  {
   "cell_type": "code",
   "execution_count": 28,
   "metadata": {
    "colab": {
     "base_uri": "https://localhost:8080/"
    },
    "executionInfo": {
     "elapsed": 2531,
     "status": "ok",
     "timestamp": 1618928882829,
     "user": {
      "displayName": "Mridul Agrawal",
      "photoUrl": "https://lh3.googleusercontent.com/a-/AOh14GjLla3WulY1gWW8ujHJjynhCoMSlJj-OuNdjSiaZA=s64",
      "userId": "02424902299468638594"
     },
     "user_tz": -330
    },
    "id": "x_tZhjvFnKrx",
    "outputId": "b1fae1db-8760-4584-ffc4-ce01bc6871e4"
   },
   "outputs": [
    {
     "name": "stdout",
     "output_type": "stream",
     "text": [
      "You can me to the the the the the the the the the the the the the the .\n",
      "Today I went to to the to the the\n",
      "My friend is go to go to a a a time .\n",
      "How you do to do ?\n",
      "And , I speak speak speak English !\n",
      "On the a a a a a a a a a a a a a\n",
      "In Japan , , , and the the the Japan .\n",
      "Then I have time to time to time time for time time time .\n",
      "I watched watched the the the the the the the the the the the the world .\n",
      "I did not not not not not not not not not not not not not not me .\n"
     ]
    }
   ],
   "source": [
    "#predicted sentences\n",
    "for i in cv[\"incorrect\"].values[:10]:\n",
    "  print(predict(i))"
   ]
  },
  {
   "cell_type": "code",
   "execution_count": 29,
   "metadata": {
    "colab": {
     "base_uri": "https://localhost:8080/"
    },
    "executionInfo": {
     "elapsed": 1298,
     "status": "ok",
     "timestamp": 1618928888752,
     "user": {
      "displayName": "Mridul Agrawal",
      "photoUrl": "https://lh3.googleusercontent.com/a-/AOh14GjLla3WulY1gWW8ujHJjynhCoMSlJj-OuNdjSiaZA=s64",
      "userId": "02424902299468638594"
     },
     "user_tz": -330
    },
    "id": "tggkoryrnK30",
    "outputId": "aa22b249-9335-45f6-a8d0-637072309e2e"
   },
   "outputs": [
    {
     "data": {
      "text/plain": [
       "array(['You can persuade him  her with your wonderful graphic skills and a new logical skill .',\n",
       "       \"Today I went to my local government 's service desk\",\n",
       "       'My husband and I go grocery shopping every weekend .',\n",
       "       'How do you study other languages ?',\n",
       "       'And the sales clerks speak Japanese very fluently !',\n",
       "       'In an English dictionary ,  th wedding anniversary  is called a  linen wedding . ',\n",
       "       'In addition to it , Tohoku radiation problems occurred .',\n",
       "       'I have little time to write this post .',\n",
       "       'I watched TV about the moon .',\n",
       "       'I did not write anything for a long time because I always forget my password : '],\n",
       "      dtype=object)"
      ]
     },
     "execution_count": 29,
     "metadata": {
      "tags": []
     },
     "output_type": "execute_result"
    }
   ],
   "source": [
    "#actual sentences\n",
    "cv[\"correct\"].values[:10]"
   ]
  },
  {
   "cell_type": "markdown",
   "metadata": {
    "id": "lRUPpukPh-Tz"
   },
   "source": [
    "#### Prediting results on test data"
   ]
  },
  {
   "cell_type": "code",
   "execution_count": null,
   "metadata": {
    "colab": {
     "base_uri": "https://localhost:8080/",
     "height": 195
    },
    "executionInfo": {
     "elapsed": 1110,
     "status": "error",
     "timestamp": 1618464997970,
     "user": {
      "displayName": "rakesh verma",
      "photoUrl": "",
      "userId": "02445444064573326335"
     },
     "user_tz": -330
    },
    "id": "KQnu3Q_UnLAQ",
    "outputId": "716123a9-d4c3-4596-f1bd-8497bb0d4a07"
   },
   "outputs": [
    {
     "name": "stdout",
     "output_type": "stream",
     "text": [
      "You can have fun , so . .\n",
      "For , , I I I grammar , and and and . .\n",
      "Some the it . .\n",
      "I read read a week week .\n",
      "Today , I saw the ! !\n",
      "The a to and and and . . . . .\n",
      "'s is is the the , , , not not not not not not in in . .\n",
      "To , the is is is is is is is the . . .\n",
      "I hope that you you to a of of of of I I I a a a . . .\n",
      "I used an an in in .\n"
     ]
    }
   ],
   "source": [
    "#predicted sentences\n",
    "for i in test[\"incorrect\"].values[:10]:\n",
    "  print(predict(i))"
   ]
  },
  {
   "cell_type": "code",
   "execution_count": null,
   "metadata": {
    "colab": {
     "base_uri": "https://localhost:8080/"
    },
    "executionInfo": {
     "elapsed": 693,
     "status": "ok",
     "timestamp": 1618062580315,
     "user": {
      "displayName": "rakesh verma",
      "photoUrl": "",
      "userId": "02445444064573326335"
     },
     "user_tz": -330
    },
    "id": "bvm4wSp8nLII",
    "outputId": "20ad6148-0e6b-4df4-f423-ce87031a3d82"
   },
   "outputs": [
    {
     "data": {
      "text/plain": [
       "array(['You can have fun there , too .',\n",
       "       'For that , I should study grammar , words and phrases .',\n",
       "       'Some libraries caused it .', 'I read  magazines per week .',\n",
       "       'Today , I saw a rainbow !',\n",
       "       'restaurant has eel and avocado rolls . . .',\n",
       "       'Mondays are the best because it focuses on football , not only the J league but also overseas leagues .',\n",
       "       'The education system of America is not top  down but bottom  up .',\n",
       "       'I have hoped that you could help me with this challenge :  I usually have a lot of grammar errors .',\n",
       "       'On my computer , I installed a Shogi application .'], dtype=object)"
      ]
     },
     "execution_count": 40,
     "metadata": {
      "tags": []
     },
     "output_type": "execute_result"
    }
   ],
   "source": [
    "#actual sentences\n",
    "test[\"correct\"].values[:10]"
   ]
  },
  {
   "cell_type": "markdown",
   "metadata": {
    "id": "lN2gf_Chk_1s"
   },
   "source": [
    "#### Plotting tensorboard plots"
   ]
  },
  {
   "cell_type": "code",
   "execution_count": 4,
   "metadata": {
    "id": "uUr5aNO3k_1s",
    "outputId": "5ed38133-9dc5-4c0d-cc70-8b3b1519502d"
   },
   "outputs": [
    {
     "data": {
      "image/png": "[encoded data removed]",
      "text/plain": [
       "<IPython.core.display.Image object>"
      ]
     },
     "execution_count": 4,
     "metadata": {},
     "output_type": "execute_result"
    }
   ],
   "source": [
    "Image(filename='Screenshot (293).png')"
   ]
  }
 ],
 "metadata": {
  "accelerator": "GPU",
  "colab": {
   "collapsed_sections": [
    "lN2gf_Chk_1s"
   ],
   "name": "attention_CNN1D_Model.ipynb",
   "provenance": [
    {
     "file_id": "1M6q-FEjfK2kDZ-HJGer9ESs8jxaKjchd",
     "timestamp": 1618062899278
    }
   ]
  },
  "kernelspec": {
   "display_name": "Python 3",
   "language": "python",
   "name": "python3"
  },
  "language_info": {
   "codemirror_mode": {
    "name": "ipython",
    "version": 3
   },
   "file_extension": ".py",
   "mimetype": "text/x-python",
   "name": "python",
   "nbconvert_exporter": "python",
   "pygments_lexer": "ipython3",
   "version": "3.7.6"
  }
 },
 "nbformat": 4,
 "nbformat_minor": 1
}
